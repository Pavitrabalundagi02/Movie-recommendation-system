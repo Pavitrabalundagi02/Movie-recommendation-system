{
 "cells": [
  {
   "cell_type": "code",
   "execution_count": 1,
   "id": "b5e5e00f",
   "metadata": {},
   "outputs": [],
   "source": [
    "import numpy as np\n",
    "import pandas as pd"
   ]
  },
  {
   "cell_type": "code",
   "execution_count": 2,
   "id": "259dfc76",
   "metadata": {},
   "outputs": [
    {
     "name": "stdout",
     "output_type": "stream",
     "text": [
      " Volume in drive C is Windows\n",
      " Volume Serial Number is FC91-C721\n",
      "\n",
      " Directory of C:\\Users\\HP\n",
      "\n",
      "29-06-2023  12:30 PM    <DIR>          .\n",
      "28-06-2023  12:38 PM    <DIR>          ..\n",
      "27-02-2022  03:27 PM    <DIR>          .android\n",
      "30-01-2023  10:17 PM    <DIR>          .conda\n",
      "01-06-2021  12:59 PM                25 .condarc\n",
      "01-06-2021  12:59 PM    <DIR>          .continuum\n",
      "29-06-2023  12:16 PM    <DIR>          .ipynb_checkpoints\n",
      "01-06-2021  01:01 PM    <DIR>          .ipython\n",
      "01-06-2021  01:26 PM    <DIR>          .jupyter\n",
      "28-06-2023  05:46 PM    <DIR>          .matplotlib\n",
      "19-03-2022  10:56 AM    <DIR>          .MemuHyperv\n",
      "20-06-2023  12:41 PM    <DIR>          .ms-ad\n",
      "18-03-2022  11:31 PM             6,879 -1.14-windows.xml\n",
      "11-03-2021  09:50 PM    <DIR>          3D Objects\n",
      "30-01-2023  11:52 PM    <DIR>          anaconda3\n",
      "29-06-2023  12:16 PM           936,463 anime.csv\n",
      "28-06-2023  08:33 PM             3,529 Cars.csv\n",
      "28-06-2023  12:43 PM    <DIR>          Contacts\n",
      "28-06-2023  05:21 PM           150,034 Crop_recommendation.csv\n",
      "28-06-2023  12:43 PM    <DIR>          Desktop\n",
      "28-06-2023  12:43 PM    <DIR>          Documents\n",
      "29-06-2023  12:09 PM    <DIR>          Downloads\n",
      "28-06-2023  12:43 PM    <DIR>          Favorites\n",
      "28-06-2023  07:48 PM               751 Forecasting.ipynb\n",
      "28-06-2023  12:43 PM    <DIR>          Links\n",
      "28-06-2023  09:28 PM            58,368 Multi linear regression.ipynb\n",
      "28-06-2023  12:43 PM    <DIR>          Music\n",
      "03-06-2021  08:50 PM    <DIR>          my python stuff\n",
      "10-12-2022  05:22 PM    <DIR>          OneDrive\n",
      "28-06-2023  07:26 PM               589 Optimizing Agricultural production.ipynb\n",
      "28-06-2023  12:43 PM    <DIR>          Pictures\n",
      "03-06-2021  11:29 AM    <DIR>          PycharmProjects\n",
      "28-06-2023  12:43 PM    <DIR>          Saved Games\n",
      "28-06-2023  12:43 PM    <DIR>          Searches\n",
      "28-06-2023  05:11 PM    <DIR>          Untitled Folder\n",
      "30-01-2023  10:28 PM                72 Untitled.ipynb\n",
      "29-06-2023  12:30 PM               779 Untitled1.ipynb\n",
      "28-06-2023  12:43 PM    <DIR>          Videos\n",
      "              10 File(s)      1,157,489 bytes\n",
      "              28 Dir(s)  28,041,236,480 bytes free\n"
     ]
    }
   ],
   "source": [
    "ls"
   ]
  },
  {
   "cell_type": "code",
   "execution_count": 4,
   "id": "abca7d13",
   "metadata": {},
   "outputs": [],
   "source": [
    "data = pd.read_csv(\"anime.csv\")"
   ]
  },
  {
   "cell_type": "code",
   "execution_count": 5,
   "id": "2a7b9c28",
   "metadata": {},
   "outputs": [
    {
     "data": {
      "text/plain": [
       "(12294, 7)"
      ]
     },
     "execution_count": 5,
     "metadata": {},
     "output_type": "execute_result"
    }
   ],
   "source": [
    "data.shape"
   ]
  },
  {
   "cell_type": "code",
   "execution_count": 6,
   "id": "0c524144",
   "metadata": {},
   "outputs": [
    {
     "data": {
      "text/html": [
       "<div>\n",
       "<style scoped>\n",
       "    .dataframe tbody tr th:only-of-type {\n",
       "        vertical-align: middle;\n",
       "    }\n",
       "\n",
       "    .dataframe tbody tr th {\n",
       "        vertical-align: top;\n",
       "    }\n",
       "\n",
       "    .dataframe thead th {\n",
       "        text-align: right;\n",
       "    }\n",
       "</style>\n",
       "<table border=\"1\" class=\"dataframe\">\n",
       "  <thead>\n",
       "    <tr style=\"text-align: right;\">\n",
       "      <th></th>\n",
       "      <th>anime_id</th>\n",
       "      <th>name</th>\n",
       "      <th>genre</th>\n",
       "      <th>type</th>\n",
       "      <th>episodes</th>\n",
       "      <th>rating</th>\n",
       "      <th>members</th>\n",
       "    </tr>\n",
       "  </thead>\n",
       "  <tbody>\n",
       "    <tr>\n",
       "      <th>0</th>\n",
       "      <td>32281</td>\n",
       "      <td>Kimi no Na wa.</td>\n",
       "      <td>Drama, Romance, School, Supernatural</td>\n",
       "      <td>Movie</td>\n",
       "      <td>1</td>\n",
       "      <td>9.37</td>\n",
       "      <td>200630</td>\n",
       "    </tr>\n",
       "    <tr>\n",
       "      <th>1</th>\n",
       "      <td>5114</td>\n",
       "      <td>Fullmetal Alchemist: Brotherhood</td>\n",
       "      <td>Action, Adventure, Drama, Fantasy, Magic, Mili...</td>\n",
       "      <td>TV</td>\n",
       "      <td>64</td>\n",
       "      <td>9.26</td>\n",
       "      <td>793665</td>\n",
       "    </tr>\n",
       "    <tr>\n",
       "      <th>2</th>\n",
       "      <td>28977</td>\n",
       "      <td>Gintama°</td>\n",
       "      <td>Action, Comedy, Historical, Parody, Samurai, S...</td>\n",
       "      <td>TV</td>\n",
       "      <td>51</td>\n",
       "      <td>9.25</td>\n",
       "      <td>114262</td>\n",
       "    </tr>\n",
       "    <tr>\n",
       "      <th>3</th>\n",
       "      <td>9253</td>\n",
       "      <td>Steins;Gate</td>\n",
       "      <td>Sci-Fi, Thriller</td>\n",
       "      <td>TV</td>\n",
       "      <td>24</td>\n",
       "      <td>9.17</td>\n",
       "      <td>673572</td>\n",
       "    </tr>\n",
       "    <tr>\n",
       "      <th>4</th>\n",
       "      <td>9969</td>\n",
       "      <td>Gintama&amp;#039;</td>\n",
       "      <td>Action, Comedy, Historical, Parody, Samurai, S...</td>\n",
       "      <td>TV</td>\n",
       "      <td>51</td>\n",
       "      <td>9.16</td>\n",
       "      <td>151266</td>\n",
       "    </tr>\n",
       "  </tbody>\n",
       "</table>\n",
       "</div>"
      ],
      "text/plain": [
       "   anime_id                              name  \\\n",
       "0     32281                    Kimi no Na wa.   \n",
       "1      5114  Fullmetal Alchemist: Brotherhood   \n",
       "2     28977                          Gintama°   \n",
       "3      9253                       Steins;Gate   \n",
       "4      9969                     Gintama&#039;   \n",
       "\n",
       "                                               genre   type episodes  rating  \\\n",
       "0               Drama, Romance, School, Supernatural  Movie        1    9.37   \n",
       "1  Action, Adventure, Drama, Fantasy, Magic, Mili...     TV       64    9.26   \n",
       "2  Action, Comedy, Historical, Parody, Samurai, S...     TV       51    9.25   \n",
       "3                                   Sci-Fi, Thriller     TV       24    9.17   \n",
       "4  Action, Comedy, Historical, Parody, Samurai, S...     TV       51    9.16   \n",
       "\n",
       "   members  \n",
       "0   200630  \n",
       "1   793665  \n",
       "2   114262  \n",
       "3   673572  \n",
       "4   151266  "
      ]
     },
     "execution_count": 6,
     "metadata": {},
     "output_type": "execute_result"
    }
   ],
   "source": [
    "data.head(5)"
   ]
  },
  {
   "cell_type": "code",
   "execution_count": 7,
   "id": "b0c55cb6",
   "metadata": {},
   "outputs": [
    {
     "data": {
      "text/plain": [
       "anime_id      0\n",
       "name          0\n",
       "genre        62\n",
       "type         25\n",
       "episodes      0\n",
       "rating      230\n",
       "members       0\n",
       "dtype: int64"
      ]
     },
     "execution_count": 7,
     "metadata": {},
     "output_type": "execute_result"
    }
   ],
   "source": [
    "data.isnull().sum()"
   ]
  },
  {
   "cell_type": "code",
   "execution_count": 11,
   "id": "72e043aa",
   "metadata": {},
   "outputs": [
    {
     "data": {
      "text/plain": [
       "anime_id      int64\n",
       "name         object\n",
       "genre        object\n",
       "type         object\n",
       "episodes     object\n",
       "rating      float64\n",
       "members       int64\n",
       "dtype: object"
      ]
     },
     "execution_count": 11,
     "metadata": {},
     "output_type": "execute_result"
    }
   ],
   "source": [
    "data.dtypes"
   ]
  },
  {
   "cell_type": "code",
   "execution_count": 12,
   "id": "f743d64c",
   "metadata": {},
   "outputs": [],
   "source": [
    "data.dropna(inplace = True)"
   ]
  },
  {
   "cell_type": "code",
   "execution_count": 14,
   "id": "c871e715",
   "metadata": {},
   "outputs": [
    {
     "data": {
      "text/html": [
       "<div>\n",
       "<style scoped>\n",
       "    .dataframe tbody tr th:only-of-type {\n",
       "        vertical-align: middle;\n",
       "    }\n",
       "\n",
       "    .dataframe tbody tr th {\n",
       "        vertical-align: top;\n",
       "    }\n",
       "\n",
       "    .dataframe thead th {\n",
       "        text-align: right;\n",
       "    }\n",
       "</style>\n",
       "<table border=\"1\" class=\"dataframe\">\n",
       "  <thead>\n",
       "    <tr style=\"text-align: right;\">\n",
       "      <th></th>\n",
       "      <th>anime_id</th>\n",
       "      <th>name</th>\n",
       "      <th>genre</th>\n",
       "      <th>type</th>\n",
       "      <th>episodes</th>\n",
       "      <th>rating</th>\n",
       "      <th>members</th>\n",
       "    </tr>\n",
       "  </thead>\n",
       "  <tbody>\n",
       "    <tr>\n",
       "      <th>0</th>\n",
       "      <td>32281</td>\n",
       "      <td>Kimi no Na wa.</td>\n",
       "      <td>Drama, Romance, School, Supernatural</td>\n",
       "      <td>Movie</td>\n",
       "      <td>1</td>\n",
       "      <td>9.37</td>\n",
       "      <td>200630</td>\n",
       "    </tr>\n",
       "    <tr>\n",
       "      <th>1</th>\n",
       "      <td>5114</td>\n",
       "      <td>Fullmetal Alchemist: Brotherhood</td>\n",
       "      <td>Action, Adventure, Drama, Fantasy, Magic, Mili...</td>\n",
       "      <td>TV</td>\n",
       "      <td>64</td>\n",
       "      <td>9.26</td>\n",
       "      <td>793665</td>\n",
       "    </tr>\n",
       "    <tr>\n",
       "      <th>2</th>\n",
       "      <td>28977</td>\n",
       "      <td>Gintama°</td>\n",
       "      <td>Action, Comedy, Historical, Parody, Samurai, S...</td>\n",
       "      <td>TV</td>\n",
       "      <td>51</td>\n",
       "      <td>9.25</td>\n",
       "      <td>114262</td>\n",
       "    </tr>\n",
       "    <tr>\n",
       "      <th>3</th>\n",
       "      <td>9253</td>\n",
       "      <td>Steins;Gate</td>\n",
       "      <td>Sci-Fi, Thriller</td>\n",
       "      <td>TV</td>\n",
       "      <td>24</td>\n",
       "      <td>9.17</td>\n",
       "      <td>673572</td>\n",
       "    </tr>\n",
       "    <tr>\n",
       "      <th>4</th>\n",
       "      <td>9969</td>\n",
       "      <td>Gintama&amp;#039;</td>\n",
       "      <td>Action, Comedy, Historical, Parody, Samurai, S...</td>\n",
       "      <td>TV</td>\n",
       "      <td>51</td>\n",
       "      <td>9.16</td>\n",
       "      <td>151266</td>\n",
       "    </tr>\n",
       "  </tbody>\n",
       "</table>\n",
       "</div>"
      ],
      "text/plain": [
       "   anime_id                              name  \\\n",
       "0     32281                    Kimi no Na wa.   \n",
       "1      5114  Fullmetal Alchemist: Brotherhood   \n",
       "2     28977                          Gintama°   \n",
       "3      9253                       Steins;Gate   \n",
       "4      9969                     Gintama&#039;   \n",
       "\n",
       "                                               genre   type episodes  rating  \\\n",
       "0               Drama, Romance, School, Supernatural  Movie        1    9.37   \n",
       "1  Action, Adventure, Drama, Fantasy, Magic, Mili...     TV       64    9.26   \n",
       "2  Action, Comedy, Historical, Parody, Samurai, S...     TV       51    9.25   \n",
       "3                                   Sci-Fi, Thriller     TV       24    9.17   \n",
       "4  Action, Comedy, Historical, Parody, Samurai, S...     TV       51    9.16   \n",
       "\n",
       "   members  \n",
       "0   200630  \n",
       "1   793665  \n",
       "2   114262  \n",
       "3   673572  \n",
       "4   151266  "
      ]
     },
     "execution_count": 14,
     "metadata": {},
     "output_type": "execute_result"
    }
   ],
   "source": [
    "data.head(5)"
   ]
  },
  {
   "cell_type": "code",
   "execution_count": 15,
   "id": "4d955587",
   "metadata": {},
   "outputs": [
    {
     "data": {
      "text/plain": [
       "0"
      ]
     },
     "execution_count": 15,
     "metadata": {},
     "output_type": "execute_result"
    }
   ],
   "source": [
    "data.duplicated().sum()"
   ]
  },
  {
   "cell_type": "code",
   "execution_count": 16,
   "id": "67a3c98c",
   "metadata": {},
   "outputs": [],
   "source": [
    "from sklearn.metrics.pairwise import cosine_similarity"
   ]
  },
  {
   "cell_type": "code",
   "execution_count": null,
   "id": "ba93efa4",
   "metadata": {},
   "outputs": [],
   "source": [
    "ratings_data = pd.read_csv('ratings.csv')\n",
    "\n",
    "# Create a user-movie matrix\n",
    "user_movie_matrix = ratings_data.pivot(index='userId', columns='movieId', values='rating').fillna(0)\n",
    "\n",
    "# Compute the cosine similarity between movies\n",
    "movie_similarity = cosine_similarity(user_movie_matrix.T)\n",
    "\n",
    "# Function to get movie recommendations for a user\n",
    "def get_movie_recommendations(user_id, top_n=5):\n",
    "    user_ratings = user_movie_matrix.loc[user_id].values\n",
    "    similarity_scores = movie_similarity.dot(user_ratings)\n",
    "    sorted_indices = similarity_scores.argsort()[::-1]\n",
    "    top_indices = sorted_indices[:top_n]\n",
    "    recommended_movies = [user_movie_matrix.columns[i] for i in top_indices]\n",
    "    return recommended_movies\n",
    "\n",
    "# Get movie recommendations for user with ID 1\n",
    "recommendations = get_movie_recommendations(1, top_n=5)\n",
    "print(recommendations)"
   ]
  },
  {
   "cell_type": "code",
   "execution_count": 19,
   "id": "5d4bb5b6",
   "metadata": {},
   "outputs": [],
   "source": [
    "user_movie_matrix = data.pivot(index='anime_id',columns='name', values='rating').fillna(0)"
   ]
  },
  {
   "cell_type": "code",
   "execution_count": 20,
   "id": "9d41e38d",
   "metadata": {},
   "outputs": [],
   "source": [
    "movie_similarity = cosine_similarity(user_movie_matrix.T)"
   ]
  },
  {
   "cell_type": "code",
   "execution_count": 22,
   "id": "dc28c157",
   "metadata": {},
   "outputs": [
    {
     "name": "stdout",
     "output_type": "stream",
     "text": [
      "['Cowboy Bebop', '◯', 'Himitsu no Akko-chan 3', 'Himitsu no Akko-chan 2', 'Himitsu no Akko-chan (Movie)', 'Himitsu no Akko-chan', 'Himitsu Spark', 'Himiko-den', 'Himeyuri', 'Himesama Goyoujin']\n"
     ]
    }
   ],
   "source": [
    "def get_movie_recommendations(anime_id, top_n=5):\n",
    "    user_ratings = user_movie_matrix.loc[anime_id].values\n",
    "    similarity_scores = movie_similarity.dot(user_ratings)\n",
    "    sorted_indices = similarity_scores.argsort()[::-1]\n",
    "    top_indices = sorted_indices[:top_n]\n",
    "    recommended_movies = [user_movie_matrix.columns[i] for i in top_indices]\n",
    "    return recommended_movies\n",
    "\n",
    "recommendations = get_movie_recommendations(1, top_n=10)\n",
    "print(recommendations)"
   ]
  },
  {
   "cell_type": "code",
   "execution_count": 25,
   "id": "60a35a02",
   "metadata": {},
   "outputs": [
    {
     "name": "stdout",
     "output_type": "stream",
     "text": [
      "                          Movie\n",
      "0                  Cowboy Bebop\n",
      "1                             ◯\n",
      "2        Himitsu no Akko-chan 3\n",
      "3        Himitsu no Akko-chan 2\n",
      "4  Himitsu no Akko-chan (Movie)\n",
      "5          Himitsu no Akko-chan\n",
      "6                 Himitsu Spark\n",
      "7                    Himiko-den\n",
      "8                      Himeyuri\n",
      "9             Himesama Goyoujin\n"
     ]
    }
   ],
   "source": [
    "recommendations_df = pd.DataFrame(recommendations, columns=['Movie'])\n",
    "print(recommendations_df)"
   ]
  },
  {
   "cell_type": "code",
   "execution_count": 26,
   "id": "4b7f5dc0",
   "metadata": {},
   "outputs": [],
   "source": [
    "from flask import Flask, render_template"
   ]
  },
  {
   "cell_type": "code",
   "execution_count": null,
   "id": "ab67cdcc",
   "metadata": {},
   "outputs": [],
   "source": []
  }
 ],
 "metadata": {
  "kernelspec": {
   "display_name": "Python 3 (ipykernel)",
   "language": "python",
   "name": "python3"
  },
  "language_info": {
   "codemirror_mode": {
    "name": "ipython",
    "version": 3
   },
   "file_extension": ".py",
   "mimetype": "text/x-python",
   "name": "python",
   "nbconvert_exporter": "python",
   "pygments_lexer": "ipython3",
   "version": "3.9.13"
  }
 },
 "nbformat": 4,
 "nbformat_minor": 5
}
